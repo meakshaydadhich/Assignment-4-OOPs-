{
 "cells": [
  {
   "cell_type": "code",
   "execution_count": 1,
   "id": "ba926a31",
   "metadata": {},
   "outputs": [],
   "source": [
    "# Q1. Explain Class and Object with respect to Object-Oriented Programming. Give a suitable example.\n",
    "\n",
    "# Class: A blueprint for creating objects. Defines attributes and methods.\n",
    "# Example:    class Car():\n",
    "#                name = \"\"\n",
    "#                gear = 5\n",
    "\n",
    "# Object: An instance of a class. Represents a specific entity with the attributes and behaviors defined by the class.\n",
    "# Example:    Object1 = Car()"
   ]
  },
  {
   "cell_type": "code",
   "execution_count": 2,
   "id": "04bff0a6",
   "metadata": {},
   "outputs": [],
   "source": [
    "# Q2. Name the four pillars of OOPs.\n",
    "\n",
    "# 1. Inheritance\n",
    "# 2. Encapsulation\n",
    "# 3. Polymorphism\n",
    "# 4. Data abstraction."
   ]
  },
  {
   "cell_type": "code",
   "execution_count": 3,
   "id": "be9d98bc",
   "metadata": {},
   "outputs": [],
   "source": [
    "# Q3. Explain why the __init__() function is used. Give a suitable example.\n",
    "\n",
    "# The task of constructors is to initialize(assign values) to the data members of the class when an object of the class \n",
    "# is created.\n",
    "\n",
    "# Example:      class test1():\n",
    "#                     def __init__(self,name,id):\n",
    "#                         self.name = name\n",
    "#                         self.id = id\n",
    "#                     def hi_calling(self):\n",
    "#                         print(\"hi\", self.name, self.id)\n",
    "                \n",
    "#               obj1 = test1(\"akshay\",101)\n",
    "#               obj1.hi_calling()"
   ]
  },
  {
   "cell_type": "code",
   "execution_count": null,
   "id": "1bef2292",
   "metadata": {},
   "outputs": [],
   "source": [
    "# Q4. Why self is used in OOPs?\n",
    "\n",
    "# The use of “self” is fundamental to object-oriented programming in Python. In OOP, objects are created from classes,\n",
    "# and “self” is used to refer to the specific instance of the class being manipulated."
   ]
  },
  {
   "cell_type": "code",
   "execution_count": null,
   "id": "e84a1e1c",
   "metadata": {},
   "outputs": [],
   "source": [
    "# Q5. What is inheritance? Give an example for each type of inheritance.\n",
    "\n",
    "# Inheritance is defined as the mechanism of inheriting the properties of the base class to the child class.Here we a going to \n",
    "# see the types of inheritance in Python.\n",
    "\n",
    "# 1. single\n",
    "# 2. multiple\n",
    "# 3. multilevel\n",
    "# 4. hierarchical\n",
    "# 5. hybrid inheritance."
   ]
  }
 ],
 "metadata": {
  "kernelspec": {
   "display_name": "Python 3 (ipykernel)",
   "language": "python",
   "name": "python3"
  },
  "language_info": {
   "codemirror_mode": {
    "name": "ipython",
    "version": 3
   },
   "file_extension": ".py",
   "mimetype": "text/x-python",
   "name": "python",
   "nbconvert_exporter": "python",
   "pygments_lexer": "ipython3",
   "version": "3.10.9"
  }
 },
 "nbformat": 4,
 "nbformat_minor": 5
}
